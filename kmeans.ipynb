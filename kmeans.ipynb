{
 "cells": [
  {
   "cell_type": "code",
   "execution_count": 1,
   "id": "initial_id",
   "metadata": {
    "collapsed": true,
    "ExecuteTime": {
     "end_time": "2025-06-05T11:12:53.240908Z",
     "start_time": "2025-06-05T11:12:50.261404Z"
    }
   },
   "outputs": [],
   "source": [
    "import pandas as pd\n",
    "import matplotlib.pyplot as plt\n",
    "import ast\n",
    "from sklearn.cluster import k_means\n",
    "from sklearn.preprocessing import MultiLabelBinarizer, OneHotEncoder\n",
    "from collections import Counter\n",
    "import umap.umap_ as umap\n",
    "import seaborn as sns"
   ]
  },
  {
   "cell_type": "code",
   "outputs": [
    {
     "name": "stdout",
     "output_type": "stream",
     "text": [
      "profile_id          0\n",
      "profile_is_child    0\n",
      "geo                 0\n",
      "product_ids         0\n",
      "device              0\n",
      "delta               0\n",
      "positive            0\n",
      "negative            0\n",
      "genres              0\n",
      "hashtags            0\n",
      "cls                 0\n",
      "starts              0\n",
      "progress            0\n",
      "versions            0\n",
      "dtype: int64\n"
     ]
    },
    {
     "data": {
      "text/plain": "                             profile_id  profile_is_child geo  \\\n0  80d6ad93-1aa3-40dd-9f85-1bee3f2a8627                 0  RU   \n1  0cec5794-90fa-467d-9857-43851054dfb3                 0  BY   \n2  50820849-495c-4eab-8531-71b294585d3a                 0  RU   \n3  0121c8ec-2066-4aa7-a788-db9e6abb65a5                 1  RU   \n4  97de2898-7245-4430-9eaa-1217a7476cc7                 0  DE   \n\n                                         product_ids  \\\n0           ['c164dd6d-3669-435c-a8f6-b57ca14b0a61']   \n1  ['608da742-46c3-4a5d-8134-532fd391a456', 'c0c4...   \n2  ['55b61165-1d6d-4216-80f8-95ffda3bd528', 'e388...   \n3           ['2b085cca-54e2-44ac-b437-ee7607828d1d']   \n4  ['b315e3c5-da4b-4dc7-bc01-62d7761e732d', '608d...   \n\n                                              device      delta  positive  \\\n0                                            ['web']   29193298         0   \n1  ['tv', 'tv', 'tv', 'tv', 'tv', 'tv', 'tv', 'tv...  590977773         0   \n2                ['web', 'web', 'web', 'web', 'web']   36432828        11   \n3                                             ['tv']    2098083         0   \n4  ['mobile', 'mobile', 'mobile', 'mobile', 'mobi...   38886428         0   \n\n   negative                                             genres  \\\n0         0                    ['criminal', 'drama', 'action']   \n1         0  ['detective', 'drama', 'comedy', 'family', 'th...   \n2         4  ['comedy', 'family', 'family', 'fantasy', 'adv...   \n3         0                 ['entertainment', 'cartoonseries']   \n4         0  ['drama', 'detective', 'drama', 'detective', '...   \n\n                                            hashtags  \\\n0  ['Законы улиц', 'Кино с характером', 'Криминал...   \n1  ['Ведется расследование', 'Мрачная атмосфера',...   \n2  ['Вечные ценности', 'Дела семейные', 'Душевное...   \n3              ['Малышам', 'Про дружбу', 'Девочкам']   \n4  ['Звездный актерский состав', 'Советское время...   \n\n                                                 cls  \\\n0                                         ['Series']   \n1  ['Series', 'Series', 'Movie', 'Series', 'Serie...   \n2  ['Series', 'Series', 'Series', 'Series', 'Seri...   \n3                                         ['Series']   \n4  ['Series', 'Series', 'Series', 'Series', 'Seri...   \n\n                                              starts  \\\n0                            ['2024-01-22 18:35:28']   \n1  ['2023-12-22 14:52:55', '2025-03-16 14:13:35',...   \n2  ['2024-11-19 17:33:47', '2024-10-13 18:33:56',...   \n3                            ['2024-12-03 04:10:59']   \n4  ['2023-12-17 13:52:34', '2023-11-18 21:47:18',...   \n\n                                            progress  \\\n0                                      ['1.1449645']   \n1  ['0.95737725', '0.014767603', '0.013667554', '...   \n2  ['0.09395181', '0.8115045', '0.0010829378', '0...   \n3                                     ['0.12762572']   \n4  ['0.009468423', '0.012955979', '0.037663378', ...   \n\n                                            versions  \n0                            ['2024-01-22 19:20:38']  \n1  ['2023-12-22 14:52:55', '2025-03-16 14:17:38',...  \n2  ['2024-11-19 18:21:13', '2024-10-13 18:34:17',...  \n3                            ['2024-12-03 04:47:59']  \n4  ['2023-12-17 13:52:41', '2023-11-18 21:51:17',...  ",
      "text/html": "<div>\n<style scoped>\n    .dataframe tbody tr th:only-of-type {\n        vertical-align: middle;\n    }\n\n    .dataframe tbody tr th {\n        vertical-align: top;\n    }\n\n    .dataframe thead th {\n        text-align: right;\n    }\n</style>\n<table border=\"1\" class=\"dataframe\">\n  <thead>\n    <tr style=\"text-align: right;\">\n      <th></th>\n      <th>profile_id</th>\n      <th>profile_is_child</th>\n      <th>geo</th>\n      <th>product_ids</th>\n      <th>device</th>\n      <th>delta</th>\n      <th>positive</th>\n      <th>negative</th>\n      <th>genres</th>\n      <th>hashtags</th>\n      <th>cls</th>\n      <th>starts</th>\n      <th>progress</th>\n      <th>versions</th>\n    </tr>\n  </thead>\n  <tbody>\n    <tr>\n      <th>0</th>\n      <td>80d6ad93-1aa3-40dd-9f85-1bee3f2a8627</td>\n      <td>0</td>\n      <td>RU</td>\n      <td>['c164dd6d-3669-435c-a8f6-b57ca14b0a61']</td>\n      <td>['web']</td>\n      <td>29193298</td>\n      <td>0</td>\n      <td>0</td>\n      <td>['criminal', 'drama', 'action']</td>\n      <td>['Законы улиц', 'Кино с характером', 'Криминал...</td>\n      <td>['Series']</td>\n      <td>['2024-01-22 18:35:28']</td>\n      <td>['1.1449645']</td>\n      <td>['2024-01-22 19:20:38']</td>\n    </tr>\n    <tr>\n      <th>1</th>\n      <td>0cec5794-90fa-467d-9857-43851054dfb3</td>\n      <td>0</td>\n      <td>BY</td>\n      <td>['608da742-46c3-4a5d-8134-532fd391a456', 'c0c4...</td>\n      <td>['tv', 'tv', 'tv', 'tv', 'tv', 'tv', 'tv', 'tv...</td>\n      <td>590977773</td>\n      <td>0</td>\n      <td>0</td>\n      <td>['detective', 'drama', 'comedy', 'family', 'th...</td>\n      <td>['Ведется расследование', 'Мрачная атмосфера',...</td>\n      <td>['Series', 'Series', 'Movie', 'Series', 'Serie...</td>\n      <td>['2023-12-22 14:52:55', '2025-03-16 14:13:35',...</td>\n      <td>['0.95737725', '0.014767603', '0.013667554', '...</td>\n      <td>['2023-12-22 14:52:55', '2025-03-16 14:17:38',...</td>\n    </tr>\n    <tr>\n      <th>2</th>\n      <td>50820849-495c-4eab-8531-71b294585d3a</td>\n      <td>0</td>\n      <td>RU</td>\n      <td>['55b61165-1d6d-4216-80f8-95ffda3bd528', 'e388...</td>\n      <td>['web', 'web', 'web', 'web', 'web']</td>\n      <td>36432828</td>\n      <td>11</td>\n      <td>4</td>\n      <td>['comedy', 'family', 'family', 'fantasy', 'adv...</td>\n      <td>['Вечные ценности', 'Дела семейные', 'Душевное...</td>\n      <td>['Series', 'Series', 'Series', 'Series', 'Seri...</td>\n      <td>['2024-11-19 17:33:47', '2024-10-13 18:33:56',...</td>\n      <td>['0.09395181', '0.8115045', '0.0010829378', '0...</td>\n      <td>['2024-11-19 18:21:13', '2024-10-13 18:34:17',...</td>\n    </tr>\n    <tr>\n      <th>3</th>\n      <td>0121c8ec-2066-4aa7-a788-db9e6abb65a5</td>\n      <td>1</td>\n      <td>RU</td>\n      <td>['2b085cca-54e2-44ac-b437-ee7607828d1d']</td>\n      <td>['tv']</td>\n      <td>2098083</td>\n      <td>0</td>\n      <td>0</td>\n      <td>['entertainment', 'cartoonseries']</td>\n      <td>['Малышам', 'Про дружбу', 'Девочкам']</td>\n      <td>['Series']</td>\n      <td>['2024-12-03 04:10:59']</td>\n      <td>['0.12762572']</td>\n      <td>['2024-12-03 04:47:59']</td>\n    </tr>\n    <tr>\n      <th>4</th>\n      <td>97de2898-7245-4430-9eaa-1217a7476cc7</td>\n      <td>0</td>\n      <td>DE</td>\n      <td>['b315e3c5-da4b-4dc7-bc01-62d7761e732d', '608d...</td>\n      <td>['mobile', 'mobile', 'mobile', 'mobile', 'mobi...</td>\n      <td>38886428</td>\n      <td>0</td>\n      <td>0</td>\n      <td>['drama', 'detective', 'drama', 'detective', '...</td>\n      <td>['Звездный актерский состав', 'Советское время...</td>\n      <td>['Series', 'Series', 'Series', 'Series', 'Seri...</td>\n      <td>['2023-12-17 13:52:34', '2023-11-18 21:47:18',...</td>\n      <td>['0.009468423', '0.012955979', '0.037663378', ...</td>\n      <td>['2023-12-17 13:52:41', '2023-11-18 21:51:17',...</td>\n    </tr>\n  </tbody>\n</table>\n</div>"
     },
     "execution_count": 2,
     "metadata": {},
     "output_type": "execute_result"
    }
   ],
   "source": [
    "df = pd.read_csv('Result_21_5.csv', encoding='')\n",
    "missing_count = df.isna().sum()\n",
    "print(missing_count)\n",
    "df.head()"
   ],
   "metadata": {
    "collapsed": false,
    "ExecuteTime": {
     "end_time": "2025-06-05T11:12:56.390493Z",
     "start_time": "2025-06-05T11:12:55.531453Z"
    }
   },
   "id": "6b6fda487755153a",
   "execution_count": 2
  },
  {
   "cell_type": "code",
   "outputs": [],
   "source": [],
   "metadata": {
    "collapsed": false
   },
   "id": "464a0a8ebccbc574"
  }
 ],
 "metadata": {
  "kernelspec": {
   "display_name": "Python 3",
   "language": "python",
   "name": "python3"
  },
  "language_info": {
   "codemirror_mode": {
    "name": "ipython",
    "version": 2
   },
   "file_extension": ".py",
   "mimetype": "text/x-python",
   "name": "python",
   "nbconvert_exporter": "python",
   "pygments_lexer": "ipython2",
   "version": "2.7.6"
  }
 },
 "nbformat": 4,
 "nbformat_minor": 5
}
