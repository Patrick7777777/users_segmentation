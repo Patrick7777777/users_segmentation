{
 "cells": [
  {
   "cell_type": "code",
   "execution_count": 506,
   "id": "initial_id",
   "metadata": {
    "collapsed": true,
    "ExecuteTime": {
     "end_time": "2025-06-09T12:38:38.657136Z",
     "start_time": "2025-06-09T12:38:38.652705Z"
    }
   },
   "outputs": [],
   "source": [
    "import pandas as pd\n",
    "import numpy as np\n",
    "import umap.umap_ as umap\n",
    "import matplotlib.pyplot as plt\n",
    "import seaborn as sns\n",
    "import warnings\n",
    "import ast\n",
    "from kmodes.kprototypes import KPrototypes\n",
    "from kmodes.kmodes import KModes\n",
    "from collections import Counter\n",
    "from sklearn import impute\n",
    "from sklearn.preprocessing import MinMaxScaler, OneHotEncoder\n",
    "from sklearn.metrics import silhouette_score, calinski_harabasz_score, davies_bouldin_score\n",
    "from sklearn.pipeline import make_pipeline, Pipeline \n",
    "from gower import gower_matrix\n",
    "from utils import multiple_graphs\n",
    "from prince import MCA, FAMD, MFA, PCA\n",
    "from hyperopt import fmin, tpe, hp, Trials\n",
    "%matplotlib inline"
   ]
  },
  {
   "cell_type": "code",
   "outputs": [],
   "source": [
    "warnings.filterwarnings(\"ignore\", category=FutureWarning)\n",
    "warnings.filterwarnings(\"ignore\", message=\"using precomputed metric; inverse_transform will be unavailable\")"
   ],
   "metadata": {
    "collapsed": false,
    "ExecuteTime": {
     "end_time": "2025-06-09T12:38:38.660870Z",
     "start_time": "2025-06-09T12:38:38.658498Z"
    }
   },
   "id": "23025e24684c5751",
   "execution_count": 507
  },
  {
   "cell_type": "code",
   "outputs": [
    {
     "data": {
      "text/plain": "                                      id     cls                        title  \\\n0   394ec71b-ee9c-49a7-ba63-dcf2bf97f50b   Movie               Лена и львенок   \n1   4fb22f07-16d5-4659-ae03-5bae62ccc949  Series               Под прикрытием   \n2   3ddcdfb9-23fd-423b-a859-914a6e71c5d0   Movie     Подростки: Первая любовь   \n3   550ce943-319d-4dd4-a984-446a0317a721  Series                     КрисТина   \n4   5276792f-926e-440f-acc8-63739b38c64c   Movie      Музыка, исцеляющая души   \n..                                   ...     ...                          ...   \n95  073d0610-9914-4662-b12e-04f338359bc9   Movie               Мини-вселенная   \n96  b7758553-9042-463c-a3a4-eaef12916e5c   Movie           Счастье в конверте   \n97  1683de62-935b-4ac7-9c95-02083ebfd7d0   Movie  Принципиально документально   \n98  fa8c70f1-dd94-4bd9-8e80-60004007da4a   Movie                  Доктор Лиза   \n99  1f17a016-c721-4e9e-9755-8e90076fae29   Movie                    Пена дней   \n\n                                           geo_target  for_kids  duration  \\\n0   ['EE', 'LT', 'LV', 'AZ', 'AM', 'BY', 'KG', 'KZ...      True   5402500   \n1                                              ['RU']     False         0   \n2   ['AZ', 'AM', 'BY', 'KG', 'KZ', 'MD', 'RU', 'TJ...     False   6097042   \n3   ['AD', 'AE', 'AF', 'AG', 'AI', 'AL', 'AM', 'AO...     False         0   \n4                                              ['RU']     False    714960   \n..                                                ...       ...       ...   \n95                                             ['RU']     False   2999840   \n96  ['AZ', 'AM', 'BY', 'KG', 'KZ', 'MD', 'RU', 'TJ...     False   5885480   \n97  ['AD', 'AE', 'AF', 'AG', 'AI', 'AL', 'AM', 'AO...     False   1341200   \n98  ['AM', 'AZ', 'BY', 'GE', 'KZ', 'KG', 'MD', 'RU...     False   6910840   \n99  ['AZ', 'AM', 'BY', 'KG', 'KZ', 'MD', 'RU', 'TJ...     False   7543320   \n\n    overall_duration  is_4k                  devices  total_episodes  \\\n0                  0  False  ['Web', 'Mobile', 'TV']             NaN   \n1           49706880  False  ['Web', 'Mobile', 'TV']            22.0   \n2                  0   True  ['Web', 'Mobile', 'TV']             NaN   \n3           12328120   True  ['Web', 'Mobile', 'TV']            18.0   \n4                  0  False  ['Web', 'Mobile', 'TV']             NaN   \n..               ...    ...                      ...             ...   \n95                 0  False  ['Web', 'Mobile', 'TV']             NaN   \n96                 0  False                  ['Web']             NaN   \n97                 0  False  ['Web', 'Mobile', 'TV']             NaN   \n98                 0  False                  ['Web']             NaN   \n99                 0  False                  ['Web']             NaN   \n\n    total_seasons                             genres  rating_imdb  rating_age  \\\n0             NaN  ['family', 'comedy', 'adventure']          5.4           6   \n1             1.0  ['melodrama', 'comedy', 'action']          6.5          16   \n2             NaN    ['melodrama', 'music', 'youth']          5.8          18   \n3             1.0              ['thriller', 'drama']          7.4          18   \n4             NaN                     ['documental']          NaN          12   \n..            ...                                ...          ...         ...   \n95            NaN                     ['documental']          6.6          18   \n96            NaN            ['melodrama', 'family']          6.4          18   \n97            NaN                ['comedy', 'short']          NaN          18   \n98            NaN                   ['drama', 'bio']          7.2          18   \n99            NaN  ['melodrama', 'fantasy', 'drama']          6.5          18   \n\n    rating_kp  rating_start  rating_total    year  popularity  popularity_kids  \n0         7.8           NaN           8.4  2020.0        70.0             70.0  \n1         7.5           NaN           7.9  2022.0        81.0              NaN  \n2         7.2           NaN           8.2  2024.0       725.0              NaN  \n3         6.2           NaN           6.8  2021.0       745.0              NaN  \n4         NaN           NaN           NaN  2016.0         6.0              NaN  \n..        ...           ...           ...     ...         ...              ...  \n95        NaN           NaN           NaN  2017.0        25.0              NaN  \n96        8.4           NaN           9.0  2020.0         1.0              NaN  \n97        7.1           NaN           6.9  2021.0       149.0              NaN  \n98        8.3           NaN           8.4  2020.0         1.0              NaN  \n99        6.9           NaN           6.7  2013.0         2.0              NaN  \n\n[100 rows x 20 columns]",
      "text/html": "<div>\n<style scoped>\n    .dataframe tbody tr th:only-of-type {\n        vertical-align: middle;\n    }\n\n    .dataframe tbody tr th {\n        vertical-align: top;\n    }\n\n    .dataframe thead th {\n        text-align: right;\n    }\n</style>\n<table border=\"1\" class=\"dataframe\">\n  <thead>\n    <tr style=\"text-align: right;\">\n      <th></th>\n      <th>id</th>\n      <th>cls</th>\n      <th>title</th>\n      <th>geo_target</th>\n      <th>for_kids</th>\n      <th>duration</th>\n      <th>overall_duration</th>\n      <th>is_4k</th>\n      <th>devices</th>\n      <th>total_episodes</th>\n      <th>total_seasons</th>\n      <th>genres</th>\n      <th>rating_imdb</th>\n      <th>rating_age</th>\n      <th>rating_kp</th>\n      <th>rating_start</th>\n      <th>rating_total</th>\n      <th>year</th>\n      <th>popularity</th>\n      <th>popularity_kids</th>\n    </tr>\n  </thead>\n  <tbody>\n    <tr>\n      <th>0</th>\n      <td>394ec71b-ee9c-49a7-ba63-dcf2bf97f50b</td>\n      <td>Movie</td>\n      <td>Лена и львенок</td>\n      <td>['EE', 'LT', 'LV', 'AZ', 'AM', 'BY', 'KG', 'KZ...</td>\n      <td>True</td>\n      <td>5402500</td>\n      <td>0</td>\n      <td>False</td>\n      <td>['Web', 'Mobile', 'TV']</td>\n      <td>NaN</td>\n      <td>NaN</td>\n      <td>['family', 'comedy', 'adventure']</td>\n      <td>5.4</td>\n      <td>6</td>\n      <td>7.8</td>\n      <td>NaN</td>\n      <td>8.4</td>\n      <td>2020.0</td>\n      <td>70.0</td>\n      <td>70.0</td>\n    </tr>\n    <tr>\n      <th>1</th>\n      <td>4fb22f07-16d5-4659-ae03-5bae62ccc949</td>\n      <td>Series</td>\n      <td>Под прикрытием</td>\n      <td>['RU']</td>\n      <td>False</td>\n      <td>0</td>\n      <td>49706880</td>\n      <td>False</td>\n      <td>['Web', 'Mobile', 'TV']</td>\n      <td>22.0</td>\n      <td>1.0</td>\n      <td>['melodrama', 'comedy', 'action']</td>\n      <td>6.5</td>\n      <td>16</td>\n      <td>7.5</td>\n      <td>NaN</td>\n      <td>7.9</td>\n      <td>2022.0</td>\n      <td>81.0</td>\n      <td>NaN</td>\n    </tr>\n    <tr>\n      <th>2</th>\n      <td>3ddcdfb9-23fd-423b-a859-914a6e71c5d0</td>\n      <td>Movie</td>\n      <td>Подростки: Первая любовь</td>\n      <td>['AZ', 'AM', 'BY', 'KG', 'KZ', 'MD', 'RU', 'TJ...</td>\n      <td>False</td>\n      <td>6097042</td>\n      <td>0</td>\n      <td>True</td>\n      <td>['Web', 'Mobile', 'TV']</td>\n      <td>NaN</td>\n      <td>NaN</td>\n      <td>['melodrama', 'music', 'youth']</td>\n      <td>5.8</td>\n      <td>18</td>\n      <td>7.2</td>\n      <td>NaN</td>\n      <td>8.2</td>\n      <td>2024.0</td>\n      <td>725.0</td>\n      <td>NaN</td>\n    </tr>\n    <tr>\n      <th>3</th>\n      <td>550ce943-319d-4dd4-a984-446a0317a721</td>\n      <td>Series</td>\n      <td>КрисТина</td>\n      <td>['AD', 'AE', 'AF', 'AG', 'AI', 'AL', 'AM', 'AO...</td>\n      <td>False</td>\n      <td>0</td>\n      <td>12328120</td>\n      <td>True</td>\n      <td>['Web', 'Mobile', 'TV']</td>\n      <td>18.0</td>\n      <td>1.0</td>\n      <td>['thriller', 'drama']</td>\n      <td>7.4</td>\n      <td>18</td>\n      <td>6.2</td>\n      <td>NaN</td>\n      <td>6.8</td>\n      <td>2021.0</td>\n      <td>745.0</td>\n      <td>NaN</td>\n    </tr>\n    <tr>\n      <th>4</th>\n      <td>5276792f-926e-440f-acc8-63739b38c64c</td>\n      <td>Movie</td>\n      <td>Музыка, исцеляющая души</td>\n      <td>['RU']</td>\n      <td>False</td>\n      <td>714960</td>\n      <td>0</td>\n      <td>False</td>\n      <td>['Web', 'Mobile', 'TV']</td>\n      <td>NaN</td>\n      <td>NaN</td>\n      <td>['documental']</td>\n      <td>NaN</td>\n      <td>12</td>\n      <td>NaN</td>\n      <td>NaN</td>\n      <td>NaN</td>\n      <td>2016.0</td>\n      <td>6.0</td>\n      <td>NaN</td>\n    </tr>\n    <tr>\n      <th>...</th>\n      <td>...</td>\n      <td>...</td>\n      <td>...</td>\n      <td>...</td>\n      <td>...</td>\n      <td>...</td>\n      <td>...</td>\n      <td>...</td>\n      <td>...</td>\n      <td>...</td>\n      <td>...</td>\n      <td>...</td>\n      <td>...</td>\n      <td>...</td>\n      <td>...</td>\n      <td>...</td>\n      <td>...</td>\n      <td>...</td>\n      <td>...</td>\n      <td>...</td>\n    </tr>\n    <tr>\n      <th>95</th>\n      <td>073d0610-9914-4662-b12e-04f338359bc9</td>\n      <td>Movie</td>\n      <td>Мини-вселенная</td>\n      <td>['RU']</td>\n      <td>False</td>\n      <td>2999840</td>\n      <td>0</td>\n      <td>False</td>\n      <td>['Web', 'Mobile', 'TV']</td>\n      <td>NaN</td>\n      <td>NaN</td>\n      <td>['documental']</td>\n      <td>6.6</td>\n      <td>18</td>\n      <td>NaN</td>\n      <td>NaN</td>\n      <td>NaN</td>\n      <td>2017.0</td>\n      <td>25.0</td>\n      <td>NaN</td>\n    </tr>\n    <tr>\n      <th>96</th>\n      <td>b7758553-9042-463c-a3a4-eaef12916e5c</td>\n      <td>Movie</td>\n      <td>Счастье в конверте</td>\n      <td>['AZ', 'AM', 'BY', 'KG', 'KZ', 'MD', 'RU', 'TJ...</td>\n      <td>False</td>\n      <td>5885480</td>\n      <td>0</td>\n      <td>False</td>\n      <td>['Web']</td>\n      <td>NaN</td>\n      <td>NaN</td>\n      <td>['melodrama', 'family']</td>\n      <td>6.4</td>\n      <td>18</td>\n      <td>8.4</td>\n      <td>NaN</td>\n      <td>9.0</td>\n      <td>2020.0</td>\n      <td>1.0</td>\n      <td>NaN</td>\n    </tr>\n    <tr>\n      <th>97</th>\n      <td>1683de62-935b-4ac7-9c95-02083ebfd7d0</td>\n      <td>Movie</td>\n      <td>Принципиально документально</td>\n      <td>['AD', 'AE', 'AF', 'AG', 'AI', 'AL', 'AM', 'AO...</td>\n      <td>False</td>\n      <td>1341200</td>\n      <td>0</td>\n      <td>False</td>\n      <td>['Web', 'Mobile', 'TV']</td>\n      <td>NaN</td>\n      <td>NaN</td>\n      <td>['comedy', 'short']</td>\n      <td>NaN</td>\n      <td>18</td>\n      <td>7.1</td>\n      <td>NaN</td>\n      <td>6.9</td>\n      <td>2021.0</td>\n      <td>149.0</td>\n      <td>NaN</td>\n    </tr>\n    <tr>\n      <th>98</th>\n      <td>fa8c70f1-dd94-4bd9-8e80-60004007da4a</td>\n      <td>Movie</td>\n      <td>Доктор Лиза</td>\n      <td>['AM', 'AZ', 'BY', 'GE', 'KZ', 'KG', 'MD', 'RU...</td>\n      <td>False</td>\n      <td>6910840</td>\n      <td>0</td>\n      <td>False</td>\n      <td>['Web']</td>\n      <td>NaN</td>\n      <td>NaN</td>\n      <td>['drama', 'bio']</td>\n      <td>7.2</td>\n      <td>18</td>\n      <td>8.3</td>\n      <td>NaN</td>\n      <td>8.4</td>\n      <td>2020.0</td>\n      <td>1.0</td>\n      <td>NaN</td>\n    </tr>\n    <tr>\n      <th>99</th>\n      <td>1f17a016-c721-4e9e-9755-8e90076fae29</td>\n      <td>Movie</td>\n      <td>Пена дней</td>\n      <td>['AZ', 'AM', 'BY', 'KG', 'KZ', 'MD', 'RU', 'TJ...</td>\n      <td>False</td>\n      <td>7543320</td>\n      <td>0</td>\n      <td>False</td>\n      <td>['Web']</td>\n      <td>NaN</td>\n      <td>NaN</td>\n      <td>['melodrama', 'fantasy', 'drama']</td>\n      <td>6.5</td>\n      <td>18</td>\n      <td>6.9</td>\n      <td>NaN</td>\n      <td>6.7</td>\n      <td>2013.0</td>\n      <td>2.0</td>\n      <td>NaN</td>\n    </tr>\n  </tbody>\n</table>\n<p>100 rows × 20 columns</p>\n</div>"
     },
     "execution_count": 508,
     "metadata": {},
     "output_type": "execute_result"
    }
   ],
   "source": [
    "data = pd.read_csv('/Users/e.kireev/Desktop/users_segmentation/Result_59.csv')\n",
    "data.head(100)"
   ],
   "metadata": {
    "collapsed": false,
    "ExecuteTime": {
     "end_time": "2025-06-09T12:38:38.680157Z",
     "start_time": "2025-06-09T12:38:38.661901Z"
    }
   },
   "id": "7c9e10fcf3349942",
   "execution_count": 508
  },
  {
   "cell_type": "code",
   "outputs": [
    {
     "data": {
      "text/plain": "                                     id     cls                     title  \\\n0  394ec71b-ee9c-49a7-ba63-dcf2bf97f50b   Movie            Лена и львенок   \n1  4fb22f07-16d5-4659-ae03-5bae62ccc949  Series            Под прикрытием   \n2  3ddcdfb9-23fd-423b-a859-914a6e71c5d0   Movie  Подростки: Первая любовь   \n3  550ce943-319d-4dd4-a984-446a0317a721  Series                  КрисТина   \n4  5276792f-926e-440f-acc8-63739b38c64c   Movie   Музыка, исцеляющая души   \n\n                                          geo_target  for_kids  duration  \\\n0  ['EE', 'LT', 'LV', 'AZ', 'AM', 'BY', 'KG', 'KZ...      True   5402500   \n1                                             ['RU']     False         0   \n2  ['AZ', 'AM', 'BY', 'KG', 'KZ', 'MD', 'RU', 'TJ...     False   6097042   \n3  ['AD', 'AE', 'AF', 'AG', 'AI', 'AL', 'AM', 'AO...     False         0   \n4                                             ['RU']     False    714960   \n\n   overall_duration  is_4k            devices  total_episodes  total_seasons  \\\n0                 0  False  [Web, Mobile, TV]             NaN            NaN   \n1          49706880  False  [Web, Mobile, TV]            22.0            1.0   \n2                 0   True  [Web, Mobile, TV]             NaN            NaN   \n3          12328120   True  [Web, Mobile, TV]            18.0            1.0   \n4                 0  False  [Web, Mobile, TV]             NaN            NaN   \n\n                        genres  rating_imdb  rating_age  rating_kp  \\\n0  [family, comedy, adventure]          5.4           6        7.8   \n1  [melodrama, comedy, action]          6.5          16        7.5   \n2    [melodrama, music, youth]          5.8          18        7.2   \n3            [thriller, drama]          7.4          18        6.2   \n4                 [documental]          NaN          12        NaN   \n\n   rating_start  rating_total    year  popularity  popularity_kids  \n0           NaN           8.4  2020.0        70.0             70.0  \n1           NaN           7.9  2022.0        81.0              NaN  \n2           NaN           8.2  2024.0       725.0              NaN  \n3           NaN           6.8  2021.0       745.0              NaN  \n4           NaN           NaN  2016.0         6.0              NaN  ",
      "text/html": "<div>\n<style scoped>\n    .dataframe tbody tr th:only-of-type {\n        vertical-align: middle;\n    }\n\n    .dataframe tbody tr th {\n        vertical-align: top;\n    }\n\n    .dataframe thead th {\n        text-align: right;\n    }\n</style>\n<table border=\"1\" class=\"dataframe\">\n  <thead>\n    <tr style=\"text-align: right;\">\n      <th></th>\n      <th>id</th>\n      <th>cls</th>\n      <th>title</th>\n      <th>geo_target</th>\n      <th>for_kids</th>\n      <th>duration</th>\n      <th>overall_duration</th>\n      <th>is_4k</th>\n      <th>devices</th>\n      <th>total_episodes</th>\n      <th>total_seasons</th>\n      <th>genres</th>\n      <th>rating_imdb</th>\n      <th>rating_age</th>\n      <th>rating_kp</th>\n      <th>rating_start</th>\n      <th>rating_total</th>\n      <th>year</th>\n      <th>popularity</th>\n      <th>popularity_kids</th>\n    </tr>\n  </thead>\n  <tbody>\n    <tr>\n      <th>0</th>\n      <td>394ec71b-ee9c-49a7-ba63-dcf2bf97f50b</td>\n      <td>Movie</td>\n      <td>Лена и львенок</td>\n      <td>['EE', 'LT', 'LV', 'AZ', 'AM', 'BY', 'KG', 'KZ...</td>\n      <td>True</td>\n      <td>5402500</td>\n      <td>0</td>\n      <td>False</td>\n      <td>[Web, Mobile, TV]</td>\n      <td>NaN</td>\n      <td>NaN</td>\n      <td>[family, comedy, adventure]</td>\n      <td>5.4</td>\n      <td>6</td>\n      <td>7.8</td>\n      <td>NaN</td>\n      <td>8.4</td>\n      <td>2020.0</td>\n      <td>70.0</td>\n      <td>70.0</td>\n    </tr>\n    <tr>\n      <th>1</th>\n      <td>4fb22f07-16d5-4659-ae03-5bae62ccc949</td>\n      <td>Series</td>\n      <td>Под прикрытием</td>\n      <td>['RU']</td>\n      <td>False</td>\n      <td>0</td>\n      <td>49706880</td>\n      <td>False</td>\n      <td>[Web, Mobile, TV]</td>\n      <td>22.0</td>\n      <td>1.0</td>\n      <td>[melodrama, comedy, action]</td>\n      <td>6.5</td>\n      <td>16</td>\n      <td>7.5</td>\n      <td>NaN</td>\n      <td>7.9</td>\n      <td>2022.0</td>\n      <td>81.0</td>\n      <td>NaN</td>\n    </tr>\n    <tr>\n      <th>2</th>\n      <td>3ddcdfb9-23fd-423b-a859-914a6e71c5d0</td>\n      <td>Movie</td>\n      <td>Подростки: Первая любовь</td>\n      <td>['AZ', 'AM', 'BY', 'KG', 'KZ', 'MD', 'RU', 'TJ...</td>\n      <td>False</td>\n      <td>6097042</td>\n      <td>0</td>\n      <td>True</td>\n      <td>[Web, Mobile, TV]</td>\n      <td>NaN</td>\n      <td>NaN</td>\n      <td>[melodrama, music, youth]</td>\n      <td>5.8</td>\n      <td>18</td>\n      <td>7.2</td>\n      <td>NaN</td>\n      <td>8.2</td>\n      <td>2024.0</td>\n      <td>725.0</td>\n      <td>NaN</td>\n    </tr>\n    <tr>\n      <th>3</th>\n      <td>550ce943-319d-4dd4-a984-446a0317a721</td>\n      <td>Series</td>\n      <td>КрисТина</td>\n      <td>['AD', 'AE', 'AF', 'AG', 'AI', 'AL', 'AM', 'AO...</td>\n      <td>False</td>\n      <td>0</td>\n      <td>12328120</td>\n      <td>True</td>\n      <td>[Web, Mobile, TV]</td>\n      <td>18.0</td>\n      <td>1.0</td>\n      <td>[thriller, drama]</td>\n      <td>7.4</td>\n      <td>18</td>\n      <td>6.2</td>\n      <td>NaN</td>\n      <td>6.8</td>\n      <td>2021.0</td>\n      <td>745.0</td>\n      <td>NaN</td>\n    </tr>\n    <tr>\n      <th>4</th>\n      <td>5276792f-926e-440f-acc8-63739b38c64c</td>\n      <td>Movie</td>\n      <td>Музыка, исцеляющая души</td>\n      <td>['RU']</td>\n      <td>False</td>\n      <td>714960</td>\n      <td>0</td>\n      <td>False</td>\n      <td>[Web, Mobile, TV]</td>\n      <td>NaN</td>\n      <td>NaN</td>\n      <td>[documental]</td>\n      <td>NaN</td>\n      <td>12</td>\n      <td>NaN</td>\n      <td>NaN</td>\n      <td>NaN</td>\n      <td>2016.0</td>\n      <td>6.0</td>\n      <td>NaN</td>\n    </tr>\n  </tbody>\n</table>\n</div>"
     },
     "execution_count": 509,
     "metadata": {},
     "output_type": "execute_result"
    }
   ],
   "source": [
    "for col in ['devices', 'genres']:\n",
    "    data[col] = data[col].apply(lambda x: ast.literal_eval(x) if pd.notnull(x) else [])\n",
    "data.head()"
   ],
   "metadata": {
    "collapsed": false,
    "ExecuteTime": {
     "end_time": "2025-06-09T12:38:38.705637Z",
     "start_time": "2025-06-09T12:38:38.680839Z"
    }
   },
   "id": "d6bd364b4da8e750",
   "execution_count": 509
  },
  {
   "cell_type": "code",
   "outputs": [
    {
     "data": {
      "text/plain": "id                     0\ncls                    0\ntitle                  0\ngeo_target             0\nfor_kids               0\nduration               0\noverall_duration       0\nis_4k                  0\ndevices                0\ntotal_episodes      1017\ntotal_seasons       1017\ngenres                 0\nrating_imdb          289\nrating_age             0\nrating_kp            199\nrating_start        1586\nrating_total         275\nyear                   1\npopularity             9\npopularity_kids     1331\ndtype: int64"
     },
     "execution_count": 510,
     "metadata": {},
     "output_type": "execute_result"
    }
   ],
   "source": [
    "data.isnull().sum()"
   ],
   "metadata": {
    "collapsed": false,
    "ExecuteTime": {
     "end_time": "2025-06-09T12:38:38.709645Z",
     "start_time": "2025-06-09T12:38:38.706798Z"
    }
   },
   "id": "118720b61013a46b",
   "execution_count": 510
  },
  {
   "cell_type": "code",
   "outputs": [
    {
     "data": {
      "text/plain": "      cls                                         geo_target  for_kids  \\\n0   Movie  ['EE', 'LT', 'LV', 'AZ', 'AM', 'BY', 'KG', 'KZ...      True   \n1  Series                                             ['RU']     False   \n2   Movie  ['AZ', 'AM', 'BY', 'KG', 'KZ', 'MD', 'RU', 'TJ...     False   \n3  Series  ['AD', 'AE', 'AF', 'AG', 'AI', 'AL', 'AM', 'AO...     False   \n4   Movie                                             ['RU']     False   \n\n   duration  overall_duration  is_4k            devices  total_episodes  \\\n0   5402500                 0  False  [Web, Mobile, TV]             NaN   \n1         0          49706880  False  [Web, Mobile, TV]            22.0   \n2   6097042                 0   True  [Web, Mobile, TV]             NaN   \n3         0          12328120   True  [Web, Mobile, TV]            18.0   \n4    714960                 0  False  [Web, Mobile, TV]             NaN   \n\n   total_seasons                       genres  rating_imdb  rating_age  \\\n0            NaN  [family, comedy, adventure]          5.4           6   \n1            1.0  [melodrama, comedy, action]          6.5          16   \n2            NaN    [melodrama, music, youth]          5.8          18   \n3            1.0            [thriller, drama]          7.4          18   \n4            NaN                 [documental]          NaN          12   \n\n   rating_kp  rating_start  rating_total    year  popularity  popularity_kids  \n0        7.8           NaN           8.4  2020.0        70.0             70.0  \n1        7.5           NaN           7.9  2022.0        81.0              NaN  \n2        7.2           NaN           8.2  2024.0       725.0              NaN  \n3        6.2           NaN           6.8  2021.0       745.0              NaN  \n4        NaN           NaN           NaN  2016.0         6.0              NaN  ",
      "text/html": "<div>\n<style scoped>\n    .dataframe tbody tr th:only-of-type {\n        vertical-align: middle;\n    }\n\n    .dataframe tbody tr th {\n        vertical-align: top;\n    }\n\n    .dataframe thead th {\n        text-align: right;\n    }\n</style>\n<table border=\"1\" class=\"dataframe\">\n  <thead>\n    <tr style=\"text-align: right;\">\n      <th></th>\n      <th>cls</th>\n      <th>geo_target</th>\n      <th>for_kids</th>\n      <th>duration</th>\n      <th>overall_duration</th>\n      <th>is_4k</th>\n      <th>devices</th>\n      <th>total_episodes</th>\n      <th>total_seasons</th>\n      <th>genres</th>\n      <th>rating_imdb</th>\n      <th>rating_age</th>\n      <th>rating_kp</th>\n      <th>rating_start</th>\n      <th>rating_total</th>\n      <th>year</th>\n      <th>popularity</th>\n      <th>popularity_kids</th>\n    </tr>\n  </thead>\n  <tbody>\n    <tr>\n      <th>0</th>\n      <td>Movie</td>\n      <td>['EE', 'LT', 'LV', 'AZ', 'AM', 'BY', 'KG', 'KZ...</td>\n      <td>True</td>\n      <td>5402500</td>\n      <td>0</td>\n      <td>False</td>\n      <td>[Web, Mobile, TV]</td>\n      <td>NaN</td>\n      <td>NaN</td>\n      <td>[family, comedy, adventure]</td>\n      <td>5.4</td>\n      <td>6</td>\n      <td>7.8</td>\n      <td>NaN</td>\n      <td>8.4</td>\n      <td>2020.0</td>\n      <td>70.0</td>\n      <td>70.0</td>\n    </tr>\n    <tr>\n      <th>1</th>\n      <td>Series</td>\n      <td>['RU']</td>\n      <td>False</td>\n      <td>0</td>\n      <td>49706880</td>\n      <td>False</td>\n      <td>[Web, Mobile, TV]</td>\n      <td>22.0</td>\n      <td>1.0</td>\n      <td>[melodrama, comedy, action]</td>\n      <td>6.5</td>\n      <td>16</td>\n      <td>7.5</td>\n      <td>NaN</td>\n      <td>7.9</td>\n      <td>2022.0</td>\n      <td>81.0</td>\n      <td>NaN</td>\n    </tr>\n    <tr>\n      <th>2</th>\n      <td>Movie</td>\n      <td>['AZ', 'AM', 'BY', 'KG', 'KZ', 'MD', 'RU', 'TJ...</td>\n      <td>False</td>\n      <td>6097042</td>\n      <td>0</td>\n      <td>True</td>\n      <td>[Web, Mobile, TV]</td>\n      <td>NaN</td>\n      <td>NaN</td>\n      <td>[melodrama, music, youth]</td>\n      <td>5.8</td>\n      <td>18</td>\n      <td>7.2</td>\n      <td>NaN</td>\n      <td>8.2</td>\n      <td>2024.0</td>\n      <td>725.0</td>\n      <td>NaN</td>\n    </tr>\n    <tr>\n      <th>3</th>\n      <td>Series</td>\n      <td>['AD', 'AE', 'AF', 'AG', 'AI', 'AL', 'AM', 'AO...</td>\n      <td>False</td>\n      <td>0</td>\n      <td>12328120</td>\n      <td>True</td>\n      <td>[Web, Mobile, TV]</td>\n      <td>18.0</td>\n      <td>1.0</td>\n      <td>[thriller, drama]</td>\n      <td>7.4</td>\n      <td>18</td>\n      <td>6.2</td>\n      <td>NaN</td>\n      <td>6.8</td>\n      <td>2021.0</td>\n      <td>745.0</td>\n      <td>NaN</td>\n    </tr>\n    <tr>\n      <th>4</th>\n      <td>Movie</td>\n      <td>['RU']</td>\n      <td>False</td>\n      <td>714960</td>\n      <td>0</td>\n      <td>False</td>\n      <td>[Web, Mobile, TV]</td>\n      <td>NaN</td>\n      <td>NaN</td>\n      <td>[documental]</td>\n      <td>NaN</td>\n      <td>12</td>\n      <td>NaN</td>\n      <td>NaN</td>\n      <td>NaN</td>\n      <td>2016.0</td>\n      <td>6.0</td>\n      <td>NaN</td>\n    </tr>\n  </tbody>\n</table>\n</div>"
     },
     "execution_count": 511,
     "metadata": {},
     "output_type": "execute_result"
    }
   ],
   "source": [
    "df = data.drop(['id', 'title'], axis=1)\n",
    "df.head()"
   ],
   "metadata": {
    "collapsed": false,
    "ExecuteTime": {
     "end_time": "2025-06-09T12:38:38.717026Z",
     "start_time": "2025-06-09T12:38:38.710172Z"
    }
   },
   "id": "c56c04f019f92c84",
   "execution_count": 511
  },
  {
   "cell_type": "code",
   "outputs": [
    {
     "data": {
      "text/plain": "      cls                                         geo_target  for_kids  \\\n0   Movie  ['EE', 'LT', 'LV', 'AZ', 'AM', 'BY', 'KG', 'KZ...      True   \n1  Series                                             ['RU']     False   \n2   Movie  ['AZ', 'AM', 'BY', 'KG', 'KZ', 'MD', 'RU', 'TJ...     False   \n3  Series  ['AD', 'AE', 'AF', 'AG', 'AI', 'AL', 'AM', 'AO...     False   \n4   Movie                                             ['RU']     False   \n\n    duration  overall_duration  is_4k            devices  total_episodes  \\\n0  5402500.0               0.0  False  [Web, Mobile, TV]             0.0   \n1        0.0        49706880.0  False  [Web, Mobile, TV]            22.0   \n2  6097042.0               0.0   True  [Web, Mobile, TV]             0.0   \n3        0.0        12328120.0   True  [Web, Mobile, TV]            18.0   \n4   714960.0               0.0  False  [Web, Mobile, TV]             0.0   \n\n   total_seasons                       genres  rating_imdb  rating_age  \\\n0            0.0  [family, comedy, adventure]          5.4         6.0   \n1            1.0  [melodrama, comedy, action]          6.5        16.0   \n2            0.0    [melodrama, music, youth]          5.8        18.0   \n3            1.0            [thriller, drama]          7.4        18.0   \n4            0.0                 [documental]          0.0        12.0   \n\n   rating_kp  rating_start  rating_total    year  popularity  popularity_kids  \n0        7.8           0.0           8.4  2020.0        70.0             70.0  \n1        7.5           0.0           7.9  2022.0        81.0              0.0  \n2        7.2           0.0           8.2  2024.0       725.0              0.0  \n3        6.2           0.0           6.8  2021.0       745.0              0.0  \n4        0.0           0.0           0.0  2016.0         6.0              0.0  ",
      "text/html": "<div>\n<style scoped>\n    .dataframe tbody tr th:only-of-type {\n        vertical-align: middle;\n    }\n\n    .dataframe tbody tr th {\n        vertical-align: top;\n    }\n\n    .dataframe thead th {\n        text-align: right;\n    }\n</style>\n<table border=\"1\" class=\"dataframe\">\n  <thead>\n    <tr style=\"text-align: right;\">\n      <th></th>\n      <th>cls</th>\n      <th>geo_target</th>\n      <th>for_kids</th>\n      <th>duration</th>\n      <th>overall_duration</th>\n      <th>is_4k</th>\n      <th>devices</th>\n      <th>total_episodes</th>\n      <th>total_seasons</th>\n      <th>genres</th>\n      <th>rating_imdb</th>\n      <th>rating_age</th>\n      <th>rating_kp</th>\n      <th>rating_start</th>\n      <th>rating_total</th>\n      <th>year</th>\n      <th>popularity</th>\n      <th>popularity_kids</th>\n    </tr>\n  </thead>\n  <tbody>\n    <tr>\n      <th>0</th>\n      <td>Movie</td>\n      <td>['EE', 'LT', 'LV', 'AZ', 'AM', 'BY', 'KG', 'KZ...</td>\n      <td>True</td>\n      <td>5402500.0</td>\n      <td>0.0</td>\n      <td>False</td>\n      <td>[Web, Mobile, TV]</td>\n      <td>0.0</td>\n      <td>0.0</td>\n      <td>[family, comedy, adventure]</td>\n      <td>5.4</td>\n      <td>6.0</td>\n      <td>7.8</td>\n      <td>0.0</td>\n      <td>8.4</td>\n      <td>2020.0</td>\n      <td>70.0</td>\n      <td>70.0</td>\n    </tr>\n    <tr>\n      <th>1</th>\n      <td>Series</td>\n      <td>['RU']</td>\n      <td>False</td>\n      <td>0.0</td>\n      <td>49706880.0</td>\n      <td>False</td>\n      <td>[Web, Mobile, TV]</td>\n      <td>22.0</td>\n      <td>1.0</td>\n      <td>[melodrama, comedy, action]</td>\n      <td>6.5</td>\n      <td>16.0</td>\n      <td>7.5</td>\n      <td>0.0</td>\n      <td>7.9</td>\n      <td>2022.0</td>\n      <td>81.0</td>\n      <td>0.0</td>\n    </tr>\n    <tr>\n      <th>2</th>\n      <td>Movie</td>\n      <td>['AZ', 'AM', 'BY', 'KG', 'KZ', 'MD', 'RU', 'TJ...</td>\n      <td>False</td>\n      <td>6097042.0</td>\n      <td>0.0</td>\n      <td>True</td>\n      <td>[Web, Mobile, TV]</td>\n      <td>0.0</td>\n      <td>0.0</td>\n      <td>[melodrama, music, youth]</td>\n      <td>5.8</td>\n      <td>18.0</td>\n      <td>7.2</td>\n      <td>0.0</td>\n      <td>8.2</td>\n      <td>2024.0</td>\n      <td>725.0</td>\n      <td>0.0</td>\n    </tr>\n    <tr>\n      <th>3</th>\n      <td>Series</td>\n      <td>['AD', 'AE', 'AF', 'AG', 'AI', 'AL', 'AM', 'AO...</td>\n      <td>False</td>\n      <td>0.0</td>\n      <td>12328120.0</td>\n      <td>True</td>\n      <td>[Web, Mobile, TV]</td>\n      <td>18.0</td>\n      <td>1.0</td>\n      <td>[thriller, drama]</td>\n      <td>7.4</td>\n      <td>18.0</td>\n      <td>6.2</td>\n      <td>0.0</td>\n      <td>6.8</td>\n      <td>2021.0</td>\n      <td>745.0</td>\n      <td>0.0</td>\n    </tr>\n    <tr>\n      <th>4</th>\n      <td>Movie</td>\n      <td>['RU']</td>\n      <td>False</td>\n      <td>714960.0</td>\n      <td>0.0</td>\n      <td>False</td>\n      <td>[Web, Mobile, TV]</td>\n      <td>0.0</td>\n      <td>0.0</td>\n      <td>[documental]</td>\n      <td>0.0</td>\n      <td>12.0</td>\n      <td>0.0</td>\n      <td>0.0</td>\n      <td>0.0</td>\n      <td>2016.0</td>\n      <td>6.0</td>\n      <td>0.0</td>\n    </tr>\n  </tbody>\n</table>\n</div>"
     },
     "execution_count": 512,
     "metadata": {},
     "output_type": "execute_result"
    }
   ],
   "source": [
    "imp = impute.SimpleImputer(strategy = \"constant\", fill_value=0)\n",
    "num_cols = df.select_dtypes(include=['int64', 'float64']).columns\n",
    "df[num_cols] = imp.fit_transform(df[num_cols])\n",
    "df.head()"
   ],
   "metadata": {
    "collapsed": false,
    "ExecuteTime": {
     "end_time": "2025-06-09T12:38:38.725972Z",
     "start_time": "2025-06-09T12:38:38.717552Z"
    }
   },
   "id": "aa214bd7f777633c",
   "execution_count": 512
  },
  {
   "cell_type": "code",
   "outputs": [
    {
     "data": {
      "text/plain": "cls                 0\ngeo_target          0\nfor_kids            0\nduration            0\noverall_duration    0\nis_4k               0\ndevices             0\ntotal_episodes      0\ntotal_seasons       0\ngenres              0\nrating_imdb         0\nrating_age          0\nrating_kp           0\nrating_start        0\nrating_total        0\nyear                0\npopularity          0\npopularity_kids     0\ndtype: int64"
     },
     "execution_count": 513,
     "metadata": {},
     "output_type": "execute_result"
    }
   ],
   "source": [
    "df.isnull().sum()"
   ],
   "metadata": {
    "collapsed": false,
    "ExecuteTime": {
     "end_time": "2025-06-09T12:38:38.729515Z",
     "start_time": "2025-06-09T12:38:38.726492Z"
    }
   },
   "id": "669803e1739f48f1",
   "execution_count": 513
  },
  {
   "cell_type": "code",
   "outputs": [
    {
     "data": {
      "text/plain": "variable\nduration            3.372992\noverall_duration    3.333577\ntotal_seasons       3.137302\nrating_imdb         3.092071\nrating_total        3.025690\ntotal_episodes      2.953241\npopularity_kids     2.803745\nrating_kp           2.780348\npopularity          2.621382\nrating_age          2.477790\nrating_start        1.865147\nyear                1.858949\ndtype: float64"
     },
     "execution_count": 514,
     "metadata": {},
     "output_type": "execute_result"
    }
   ],
   "source": [
    "from prince import PCA\n",
    "pca = PCA(n_components=len(df[num_cols].columns), rescale_with_mean=True, rescale_with_std=True, random_state=42, engine='sklearn')\n",
    "pca.fit(df[num_cols])\n",
    "loadings = pca.column_correlations\n",
    "explained_var = pca.eigenvalues_\n",
    "feature_importance = (np.abs(loadings).multiply(explained_var, axis=1)).sum(axis=1)\n",
    "feature_importance = feature_importance.sort_values(ascending=False)\n",
    "feature_importance"
   ],
   "metadata": {
    "collapsed": false,
    "ExecuteTime": {
     "end_time": "2025-06-09T12:38:38.754168Z",
     "start_time": "2025-06-09T12:38:38.730127Z"
    }
   },
   "id": "ce29af86c2b8a268",
   "execution_count": 514
  },
  {
   "cell_type": "code",
   "outputs": [
    {
     "data": {
      "text/plain": "overall_duration    0.229160\nrating_imdb         0.226841\nduration            0.224535\nrating_total        0.222885\ntotal_seasons       0.214339\npopularity_kids     0.213858\nrating_kp           0.203917\npopularity          0.199402\ntotal_episodes      0.194533\nrating_age          0.182723\nrating_start        0.152856\nyear                0.145997\ndtype: float64"
     },
     "execution_count": 515,
     "metadata": {},
     "output_type": "execute_result"
    }
   ],
   "source": [
    "from sklearn.decomposition import PCA\n",
    "from sklearn.preprocessing import StandardScaler\n",
    "import pandas as pd\n",
    "\n",
    "X_scaled = StandardScaler().fit_transform(df[num_cols])\n",
    "\n",
    "pca = PCA()\n",
    "pca.fit(X_scaled)\n",
    "\n",
    "loadings = pd.DataFrame(pca.components_.T, index=df[num_cols].columns)\n",
    "\n",
    "explained_var = pca.explained_variance_ratio_\n",
    "feature_importance = (np.abs(loadings).multiply(explained_var, axis=1)).sum(axis=1)\n",
    "feature_importance = feature_importance.sort_values(ascending=False)\n",
    "feature_importance"
   ],
   "metadata": {
    "collapsed": false,
    "ExecuteTime": {
     "end_time": "2025-06-09T12:38:38.816709Z",
     "start_time": "2025-06-09T12:38:38.785354Z"
    }
   },
   "id": "19a01ff14f19237e",
   "execution_count": 515
  },
  {
   "cell_type": "code",
   "outputs": [],
   "source": [],
   "metadata": {
    "collapsed": false
   },
   "id": "fbc5bc1d243bab52"
  },
  {
   "cell_type": "code",
   "outputs": [],
   "source": [],
   "metadata": {
    "collapsed": false
   },
   "id": "ac8a318b34f96c4e"
  },
  {
   "cell_type": "code",
   "outputs": [],
   "source": [],
   "metadata": {
    "collapsed": false
   },
   "id": "32c8510edf2ab3ce"
  },
  {
   "cell_type": "code",
   "outputs": [],
   "source": [],
   "metadata": {
    "collapsed": false
   },
   "id": "7cd8c4404259cdc7"
  },
  {
   "cell_type": "code",
   "outputs": [
    {
     "data": {
      "text/plain": "       duration  overall_duration  total_episodes  total_seasons  rating_imdb  \\\n0     5402500.0               0.0             0.0            0.0          5.4   \n1           0.0        49706880.0            22.0            1.0          6.5   \n2     6097042.0               0.0             0.0            0.0          5.8   \n3           0.0        12328120.0            18.0            1.0          7.4   \n4      714960.0               0.0             0.0            0.0          0.0   \n...         ...               ...             ...            ...          ...   \n1603  1549080.0               0.0             0.0            0.0          0.0   \n1604  3000080.0               0.0             0.0            0.0          0.0   \n1605        0.0        22474240.0             9.0            1.0          0.0   \n1606  5257880.0               0.0             0.0            0.0          5.6   \n1607        0.0        59861240.0            34.0            1.0          7.1   \n\n      rating_age  rating_kp  rating_start  rating_total    year  popularity  \\\n0            6.0        7.8           0.0           8.4  2020.0        70.0   \n1           16.0        7.5           0.0           7.9  2022.0        81.0   \n2           18.0        7.2           0.0           8.2  2024.0       725.0   \n3           18.0        6.2           0.0           6.8  2021.0       745.0   \n4           12.0        0.0           0.0           0.0  2016.0         6.0   \n...          ...        ...           ...           ...     ...         ...   \n1603        18.0        0.0           0.0           0.0  2024.0        11.0   \n1604        12.0        0.0           0.0           0.0  2020.0         3.0   \n1605        18.0        8.6           0.0           8.5  2021.0         7.0   \n1606        18.0        5.9           0.0           6.1  2013.0         1.0   \n1607        18.0        7.9           0.0           8.6  2020.0        64.0   \n\n      popularity_kids  \n0                70.0  \n1                 0.0  \n2                 0.0  \n3                 0.0  \n4                 0.0  \n...               ...  \n1603              0.0  \n1604              0.0  \n1605              0.0  \n1606              0.0  \n1607              0.0  \n\n[1608 rows x 12 columns]",
      "text/html": "<div>\n<style scoped>\n    .dataframe tbody tr th:only-of-type {\n        vertical-align: middle;\n    }\n\n    .dataframe tbody tr th {\n        vertical-align: top;\n    }\n\n    .dataframe thead th {\n        text-align: right;\n    }\n</style>\n<table border=\"1\" class=\"dataframe\">\n  <thead>\n    <tr style=\"text-align: right;\">\n      <th></th>\n      <th>duration</th>\n      <th>overall_duration</th>\n      <th>total_episodes</th>\n      <th>total_seasons</th>\n      <th>rating_imdb</th>\n      <th>rating_age</th>\n      <th>rating_kp</th>\n      <th>rating_start</th>\n      <th>rating_total</th>\n      <th>year</th>\n      <th>popularity</th>\n      <th>popularity_kids</th>\n    </tr>\n  </thead>\n  <tbody>\n    <tr>\n      <th>0</th>\n      <td>5402500.0</td>\n      <td>0.0</td>\n      <td>0.0</td>\n      <td>0.0</td>\n      <td>5.4</td>\n      <td>6.0</td>\n      <td>7.8</td>\n      <td>0.0</td>\n      <td>8.4</td>\n      <td>2020.0</td>\n      <td>70.0</td>\n      <td>70.0</td>\n    </tr>\n    <tr>\n      <th>1</th>\n      <td>0.0</td>\n      <td>49706880.0</td>\n      <td>22.0</td>\n      <td>1.0</td>\n      <td>6.5</td>\n      <td>16.0</td>\n      <td>7.5</td>\n      <td>0.0</td>\n      <td>7.9</td>\n      <td>2022.0</td>\n      <td>81.0</td>\n      <td>0.0</td>\n    </tr>\n    <tr>\n      <th>2</th>\n      <td>6097042.0</td>\n      <td>0.0</td>\n      <td>0.0</td>\n      <td>0.0</td>\n      <td>5.8</td>\n      <td>18.0</td>\n      <td>7.2</td>\n      <td>0.0</td>\n      <td>8.2</td>\n      <td>2024.0</td>\n      <td>725.0</td>\n      <td>0.0</td>\n    </tr>\n    <tr>\n      <th>3</th>\n      <td>0.0</td>\n      <td>12328120.0</td>\n      <td>18.0</td>\n      <td>1.0</td>\n      <td>7.4</td>\n      <td>18.0</td>\n      <td>6.2</td>\n      <td>0.0</td>\n      <td>6.8</td>\n      <td>2021.0</td>\n      <td>745.0</td>\n      <td>0.0</td>\n    </tr>\n    <tr>\n      <th>4</th>\n      <td>714960.0</td>\n      <td>0.0</td>\n      <td>0.0</td>\n      <td>0.0</td>\n      <td>0.0</td>\n      <td>12.0</td>\n      <td>0.0</td>\n      <td>0.0</td>\n      <td>0.0</td>\n      <td>2016.0</td>\n      <td>6.0</td>\n      <td>0.0</td>\n    </tr>\n    <tr>\n      <th>...</th>\n      <td>...</td>\n      <td>...</td>\n      <td>...</td>\n      <td>...</td>\n      <td>...</td>\n      <td>...</td>\n      <td>...</td>\n      <td>...</td>\n      <td>...</td>\n      <td>...</td>\n      <td>...</td>\n      <td>...</td>\n    </tr>\n    <tr>\n      <th>1603</th>\n      <td>1549080.0</td>\n      <td>0.0</td>\n      <td>0.0</td>\n      <td>0.0</td>\n      <td>0.0</td>\n      <td>18.0</td>\n      <td>0.0</td>\n      <td>0.0</td>\n      <td>0.0</td>\n      <td>2024.0</td>\n      <td>11.0</td>\n      <td>0.0</td>\n    </tr>\n    <tr>\n      <th>1604</th>\n      <td>3000080.0</td>\n      <td>0.0</td>\n      <td>0.0</td>\n      <td>0.0</td>\n      <td>0.0</td>\n      <td>12.0</td>\n      <td>0.0</td>\n      <td>0.0</td>\n      <td>0.0</td>\n      <td>2020.0</td>\n      <td>3.0</td>\n      <td>0.0</td>\n    </tr>\n    <tr>\n      <th>1605</th>\n      <td>0.0</td>\n      <td>22474240.0</td>\n      <td>9.0</td>\n      <td>1.0</td>\n      <td>0.0</td>\n      <td>18.0</td>\n      <td>8.6</td>\n      <td>0.0</td>\n      <td>8.5</td>\n      <td>2021.0</td>\n      <td>7.0</td>\n      <td>0.0</td>\n    </tr>\n    <tr>\n      <th>1606</th>\n      <td>5257880.0</td>\n      <td>0.0</td>\n      <td>0.0</td>\n      <td>0.0</td>\n      <td>5.6</td>\n      <td>18.0</td>\n      <td>5.9</td>\n      <td>0.0</td>\n      <td>6.1</td>\n      <td>2013.0</td>\n      <td>1.0</td>\n      <td>0.0</td>\n    </tr>\n    <tr>\n      <th>1607</th>\n      <td>0.0</td>\n      <td>59861240.0</td>\n      <td>34.0</td>\n      <td>1.0</td>\n      <td>7.1</td>\n      <td>18.0</td>\n      <td>7.9</td>\n      <td>0.0</td>\n      <td>8.6</td>\n      <td>2020.0</td>\n      <td>64.0</td>\n      <td>0.0</td>\n    </tr>\n  </tbody>\n</table>\n<p>1608 rows × 12 columns</p>\n</div>"
     },
     "execution_count": 311,
     "metadata": {},
     "output_type": "execute_result"
    }
   ],
   "source": [
    "df[num_cols]"
   ],
   "metadata": {
    "collapsed": false,
    "ExecuteTime": {
     "end_time": "2025-06-09T11:29:21.747643Z",
     "start_time": "2025-06-09T11:29:21.733270Z"
    }
   },
   "id": "e1b8daaab7602941",
   "execution_count": 311
  },
  {
   "cell_type": "code",
   "outputs": [
    {
     "data": {
      "text/plain": "component               0         1         2\nvariable                                     \npopularity_kids  0.831810  0.062453  0.551536\npopularity       0.123708  0.980542 -0.152426\nrating_age      -0.814038  0.212828  0.540413",
      "text/html": "<div>\n<style scoped>\n    .dataframe tbody tr th:only-of-type {\n        vertical-align: middle;\n    }\n\n    .dataframe tbody tr th {\n        vertical-align: top;\n    }\n\n    .dataframe thead th {\n        text-align: right;\n    }\n</style>\n<table border=\"1\" class=\"dataframe\">\n  <thead>\n    <tr style=\"text-align: right;\">\n      <th>component</th>\n      <th>0</th>\n      <th>1</th>\n      <th>2</th>\n    </tr>\n    <tr>\n      <th>variable</th>\n      <th></th>\n      <th></th>\n      <th></th>\n    </tr>\n  </thead>\n  <tbody>\n    <tr>\n      <th>popularity_kids</th>\n      <td>0.831810</td>\n      <td>0.062453</td>\n      <td>0.551536</td>\n    </tr>\n    <tr>\n      <th>popularity</th>\n      <td>0.123708</td>\n      <td>0.980542</td>\n      <td>-0.152426</td>\n    </tr>\n    <tr>\n      <th>rating_age</th>\n      <td>-0.814038</td>\n      <td>0.212828</td>\n      <td>0.540413</td>\n    </tr>\n  </tbody>\n</table>\n</div>"
     },
     "execution_count": 322,
     "metadata": {},
     "output_type": "execute_result"
    }
   ],
   "source": [
    "from sklearn.preprocessing import StandardScaler\n",
    "from prince import PCA\n",
    "num_cols = ['popularity_kids', 'popularity', 'rating_age', ]\n",
    "# num_cols = ['popularity_kids', 'popularity' ]\n",
    "pca = PCA(n_components=len(df[num_cols].columns), n_iter=7, check_input=True, random_state=42, engine='sklearn')\n",
    "pca.fit(df[num_cols])\n",
    "\n",
    "loadings = pca.column_correlations\n",
    "\n",
    "loadings\n",
    "\n",
    "# importance = (loadings ** 2).sum(axis=1).sort_values(ascending=False)\n",
    "# \n",
    "# # (pca.column_correlations ** 2).equals(pca.column_cosine_similarities_)\n",
    "# # importance\n",
    "# \n",
    "# importance_df = pd.DataFrame({\n",
    "#     'Feature': loadings.index,\n",
    "#     'Importance': importance\n",
    "# }).sort_values('Importance', ascending=False)\n",
    "# \n",
    "# print(importance_df)"
   ],
   "metadata": {
    "collapsed": false,
    "ExecuteTime": {
     "end_time": "2025-06-09T11:32:35.718173Z",
     "start_time": "2025-06-09T11:32:35.685973Z"
    }
   },
   "id": "847120bae2a74185",
   "execution_count": 322
  },
  {
   "cell_type": "code",
   "outputs": [
    {
     "data": {
      "text/plain": "variable\npopularity_kids    1.0\npopularity         1.0\nrating_age         1.0\ndtype: float64"
     },
     "execution_count": 323,
     "metadata": {},
     "output_type": "execute_result"
    }
   ],
   "source": [
    "(loadings ** 2).sum(axis=1)"
   ],
   "metadata": {
    "collapsed": false,
    "ExecuteTime": {
     "end_time": "2025-06-09T11:33:25.729983Z",
     "start_time": "2025-06-09T11:33:25.721621Z"
    }
   },
   "id": "1454e8ebb93c1396",
   "execution_count": 323
  },
  {
   "cell_type": "code",
   "outputs": [
    {
     "data": {
      "text/plain": "                                     id     cls                     title  \\\n0  394ec71b-ee9c-49a7-ba63-dcf2bf97f50b   Movie            Лена и львенок   \n1  4fb22f07-16d5-4659-ae03-5bae62ccc949  Series            Под прикрытием   \n2  3ddcdfb9-23fd-423b-a859-914a6e71c5d0   Movie  Подростки: Первая любовь   \n3  550ce943-319d-4dd4-a984-446a0317a721  Series                  КрисТина   \n4  5276792f-926e-440f-acc8-63739b38c64c   Movie   Музыка, исцеляющая души   \n\n                                          geo_target  for_kids  duration  \\\n0  ['EE', 'LT', 'LV', 'AZ', 'AM', 'BY', 'KG', 'KZ...      True   5402500   \n1                                             ['RU']     False         0   \n2  ['AZ', 'AM', 'BY', 'KG', 'KZ', 'MD', 'RU', 'TJ...     False   6097042   \n3  ['AD', 'AE', 'AF', 'AG', 'AI', 'AL', 'AM', 'AO...     False         0   \n4                                             ['RU']     False    714960   \n\n   overall_duration  is_4k            devices  total_episodes  total_seasons  \\\n0                 0  False  [Web, Mobile, TV]             NaN            NaN   \n1          49706880  False  [Web, Mobile, TV]            22.0            1.0   \n2                 0   True  [Web, Mobile, TV]             NaN            NaN   \n3          12328120   True  [Web, Mobile, TV]            18.0            1.0   \n4                 0  False  [Web, Mobile, TV]             NaN            NaN   \n\n                        genres  rating_imdb  rating_age  rating_kp  \\\n0  [family, comedy, adventure]          5.4           6        7.8   \n1  [melodrama, comedy, action]          6.5          16        7.5   \n2    [melodrama, music, youth]          5.8          18        7.2   \n3            [thriller, drama]          7.4          18        6.2   \n4                 [documental]          NaN          12        NaN   \n\n   rating_start  rating_total    year  popularity  popularity_kids  \n0           NaN           8.4  2020.0        70.0             70.0  \n1           NaN           7.9  2022.0        81.0              NaN  \n2           NaN           8.2  2024.0       725.0              NaN  \n3           NaN           6.8  2021.0       745.0              NaN  \n4           NaN           NaN  2016.0         6.0              NaN  ",
      "text/html": "<div>\n<style scoped>\n    .dataframe tbody tr th:only-of-type {\n        vertical-align: middle;\n    }\n\n    .dataframe tbody tr th {\n        vertical-align: top;\n    }\n\n    .dataframe thead th {\n        text-align: right;\n    }\n</style>\n<table border=\"1\" class=\"dataframe\">\n  <thead>\n    <tr style=\"text-align: right;\">\n      <th></th>\n      <th>id</th>\n      <th>cls</th>\n      <th>title</th>\n      <th>geo_target</th>\n      <th>for_kids</th>\n      <th>duration</th>\n      <th>overall_duration</th>\n      <th>is_4k</th>\n      <th>devices</th>\n      <th>total_episodes</th>\n      <th>total_seasons</th>\n      <th>genres</th>\n      <th>rating_imdb</th>\n      <th>rating_age</th>\n      <th>rating_kp</th>\n      <th>rating_start</th>\n      <th>rating_total</th>\n      <th>year</th>\n      <th>popularity</th>\n      <th>popularity_kids</th>\n    </tr>\n  </thead>\n  <tbody>\n    <tr>\n      <th>0</th>\n      <td>394ec71b-ee9c-49a7-ba63-dcf2bf97f50b</td>\n      <td>Movie</td>\n      <td>Лена и львенок</td>\n      <td>['EE', 'LT', 'LV', 'AZ', 'AM', 'BY', 'KG', 'KZ...</td>\n      <td>True</td>\n      <td>5402500</td>\n      <td>0</td>\n      <td>False</td>\n      <td>[Web, Mobile, TV]</td>\n      <td>NaN</td>\n      <td>NaN</td>\n      <td>[family, comedy, adventure]</td>\n      <td>5.4</td>\n      <td>6</td>\n      <td>7.8</td>\n      <td>NaN</td>\n      <td>8.4</td>\n      <td>2020.0</td>\n      <td>70.0</td>\n      <td>70.0</td>\n    </tr>\n    <tr>\n      <th>1</th>\n      <td>4fb22f07-16d5-4659-ae03-5bae62ccc949</td>\n      <td>Series</td>\n      <td>Под прикрытием</td>\n      <td>['RU']</td>\n      <td>False</td>\n      <td>0</td>\n      <td>49706880</td>\n      <td>False</td>\n      <td>[Web, Mobile, TV]</td>\n      <td>22.0</td>\n      <td>1.0</td>\n      <td>[melodrama, comedy, action]</td>\n      <td>6.5</td>\n      <td>16</td>\n      <td>7.5</td>\n      <td>NaN</td>\n      <td>7.9</td>\n      <td>2022.0</td>\n      <td>81.0</td>\n      <td>NaN</td>\n    </tr>\n    <tr>\n      <th>2</th>\n      <td>3ddcdfb9-23fd-423b-a859-914a6e71c5d0</td>\n      <td>Movie</td>\n      <td>Подростки: Первая любовь</td>\n      <td>['AZ', 'AM', 'BY', 'KG', 'KZ', 'MD', 'RU', 'TJ...</td>\n      <td>False</td>\n      <td>6097042</td>\n      <td>0</td>\n      <td>True</td>\n      <td>[Web, Mobile, TV]</td>\n      <td>NaN</td>\n      <td>NaN</td>\n      <td>[melodrama, music, youth]</td>\n      <td>5.8</td>\n      <td>18</td>\n      <td>7.2</td>\n      <td>NaN</td>\n      <td>8.2</td>\n      <td>2024.0</td>\n      <td>725.0</td>\n      <td>NaN</td>\n    </tr>\n    <tr>\n      <th>3</th>\n      <td>550ce943-319d-4dd4-a984-446a0317a721</td>\n      <td>Series</td>\n      <td>КрисТина</td>\n      <td>['AD', 'AE', 'AF', 'AG', 'AI', 'AL', 'AM', 'AO...</td>\n      <td>False</td>\n      <td>0</td>\n      <td>12328120</td>\n      <td>True</td>\n      <td>[Web, Mobile, TV]</td>\n      <td>18.0</td>\n      <td>1.0</td>\n      <td>[thriller, drama]</td>\n      <td>7.4</td>\n      <td>18</td>\n      <td>6.2</td>\n      <td>NaN</td>\n      <td>6.8</td>\n      <td>2021.0</td>\n      <td>745.0</td>\n      <td>NaN</td>\n    </tr>\n    <tr>\n      <th>4</th>\n      <td>5276792f-926e-440f-acc8-63739b38c64c</td>\n      <td>Movie</td>\n      <td>Музыка, исцеляющая души</td>\n      <td>['RU']</td>\n      <td>False</td>\n      <td>714960</td>\n      <td>0</td>\n      <td>False</td>\n      <td>[Web, Mobile, TV]</td>\n      <td>NaN</td>\n      <td>NaN</td>\n      <td>[documental]</td>\n      <td>NaN</td>\n      <td>12</td>\n      <td>NaN</td>\n      <td>NaN</td>\n      <td>NaN</td>\n      <td>2016.0</td>\n      <td>6.0</td>\n      <td>NaN</td>\n    </tr>\n  </tbody>\n</table>\n</div>"
     },
     "execution_count": 172,
     "metadata": {},
     "output_type": "execute_result"
    }
   ],
   "source": [
    "data.head()"
   ],
   "metadata": {
    "collapsed": false,
    "ExecuteTime": {
     "end_time": "2025-06-09T09:38:01.860391Z",
     "start_time": "2025-06-09T09:38:01.844314Z"
    }
   },
   "id": "4a2e16625ead8acf",
   "execution_count": 172
  },
  {
   "cell_type": "code",
   "outputs": [],
   "source": [],
   "metadata": {
    "collapsed": false,
    "ExecuteTime": {
     "end_time": "2025-06-09T08:39:22.099619Z",
     "start_time": "2025-06-09T08:39:22.098298Z"
    }
   },
   "id": "3b02a5d1610a944a",
   "execution_count": 97
  },
  {
   "cell_type": "code",
   "outputs": [],
   "source": [
    "# pipe = make_pipeline(\n",
    "#     impute.SimpleImputer(strategy='most_frequent'),\n",
    "#     FAMD()\n",
    "# )\n",
    "# pipe.set_output(transform='pandas')\n",
    "# pipe.fit_transform(df.drop(['id'], axis=1)).head()"
   ],
   "metadata": {
    "collapsed": false,
    "ExecuteTime": {
     "end_time": "2025-06-09T08:39:22.102356Z",
     "start_time": "2025-06-09T08:39:22.100464Z"
    }
   },
   "id": "2306a9f99b2a3dd3",
   "execution_count": 98
  },
  {
   "cell_type": "code",
   "outputs": [],
   "source": [],
   "metadata": {
    "collapsed": false,
    "ExecuteTime": {
     "end_time": "2025-06-09T08:39:22.104443Z",
     "start_time": "2025-06-09T08:39:22.103091Z"
    }
   },
   "id": "19bafecca1e2938d",
   "execution_count": 98
  }
 ],
 "metadata": {
  "kernelspec": {
   "display_name": "Python 3",
   "language": "python",
   "name": "python3"
  },
  "language_info": {
   "codemirror_mode": {
    "name": "ipython",
    "version": 2
   },
   "file_extension": ".py",
   "mimetype": "text/x-python",
   "name": "python",
   "nbconvert_exporter": "python",
   "pygments_lexer": "ipython2",
   "version": "2.7.6"
  }
 },
 "nbformat": 4,
 "nbformat_minor": 5
}
